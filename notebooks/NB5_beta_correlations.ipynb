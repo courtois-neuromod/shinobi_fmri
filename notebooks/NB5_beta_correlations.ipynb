{
 "cells": [
  {
   "cell_type": "code",
   "execution_count": 10,
   "metadata": {},
   "outputs": [],
   "source": [
    "import os.path as op\n",
    "import numpy as np\n",
    "import pandas as pd\n",
    "import nilearn\n",
    "import pickle\n",
    "import os\n",
    "\n",
    "def load_glm(fpath):\n",
    "    \"\"\"Load a GLM object from a file.\"\"\"\n",
    "    with open(fpath, 'rb') as f:\n",
    "       fmri_glm = pickle.load(f)\n",
    "    return fmri_glm"
   ]
  },
  {
   "cell_type": "code",
   "execution_count": 11,
   "metadata": {},
   "outputs": [],
   "source": [
    "glm_path = '/home/hyruuk/GitHub/neuromod/shinobi_fmri/data/processed/glm/ses-level'\n",
    "\n",
    "glm_filelist = os.listdir(glm_path)"
   ]
  },
  {
   "cell_type": "code",
   "execution_count": 12,
   "metadata": {},
   "outputs": [],
   "source": [
    "glm_filelist[0]\n",
    "\n",
    "fmri_glm = load_glm(op.join(glm_path, glm_filelist[0]))"
   ]
  },
  {
   "cell_type": "code",
   "execution_count": null,
   "metadata": {},
   "outputs": [],
   "source": [
    "glm_filelist"
   ]
  },
  {
   "cell_type": "code",
   "execution_count": null,
   "metadata": {},
   "outputs": [],
   "source": []
  }
 ],
 "metadata": {
  "kernelspec": {
   "display_name": "shinobi",
   "language": "python",
   "name": "python3"
  },
  "language_info": {
   "codemirror_mode": {
    "name": "ipython",
    "version": 3
   },
   "file_extension": ".py",
   "mimetype": "text/x-python",
   "name": "python",
   "nbconvert_exporter": "python",
   "pygments_lexer": "ipython3",
   "version": "3.7.0"
  },
  "orig_nbformat": 4
 },
 "nbformat": 4,
 "nbformat_minor": 2
}
